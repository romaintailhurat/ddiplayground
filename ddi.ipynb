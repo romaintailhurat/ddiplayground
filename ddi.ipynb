{
 "cells": [
  {
   "cell_type": "code",
   "execution_count": 7,
   "metadata": {},
   "outputs": [
    {
     "name": "stdout",
     "output_type": "stream",
     "text": [
      "\u001b[32m\u001b[1m Resolving\u001b[22m\u001b[39m package versions...\n",
      "\u001b[32m\u001b[1m  Updating\u001b[22m\u001b[39m `/opt/julia/environments/v1.3/Project.toml`\n",
      "\u001b[90m [no changes]\u001b[39m\n",
      "\u001b[32m\u001b[1m  Updating\u001b[22m\u001b[39m `/opt/julia/environments/v1.3/Manifest.toml`\n",
      "\u001b[90m [no changes]\u001b[39m\n"
     ]
    }
   ],
   "source": [
    "import Pkg; Pkg.add(\"EzXML\")"
   ]
  },
  {
   "cell_type": "code",
   "execution_count": 8,
   "metadata": {},
   "outputs": [],
   "source": [
    "using EzXML"
   ]
  },
  {
   "cell_type": "code",
   "execution_count": 14,
   "metadata": {},
   "outputs": [
    {
     "data": {
      "text/plain": [
       "get_command_code (generic function with 1 method)"
      ]
     },
     "execution_count": 14,
     "metadata": {},
     "output_type": "execute_result"
    }
   ],
   "source": [
    "mappings = Dict(\"reusable\" => [\"r\" => \"ddi:reusable:3_3\"])\n",
    "\n",
    "struct CommandCode\n",
    "    ProgramLanguage::String\n",
    "end\n",
    "\n",
    "function get_command_codes(ddi_doc)\n",
    "    ccs = []\n",
    "\n",
    "    for cc in findall(\"//r:CommandCode\", ddi_doc.root, mappings[\"reusable\"])        \n",
    "        for element in elements(cc)        \n",
    "            pl = findfirst(\"//r:ProgramLanguage/text()\", element, mappings[\"reusable\"])\n",
    "            cc = CommandCode(pl.content)\n",
    "            push!(ccs, cc)\n",
    "        end\n",
    "    end\n",
    "\n",
    "    ccs\n",
    "end"
   ]
  },
  {
   "cell_type": "code",
   "execution_count": 16,
   "metadata": {},
   "outputs": [
    {
     "data": {
      "text/plain": [
       "4-element Array{Any,1}:\n",
       " CommandCode(\"xpath\")\n",
       " CommandCode(\"xpath\")\n",
       " CommandCode(\"xpath\")\n",
       " CommandCode(\"xpath\")"
      ]
     },
     "execution_count": 16,
     "metadata": {},
     "output_type": "execute_result"
    }
   ],
   "source": [
    "ddi = readxml(\"form.xml\")\n",
    "\n",
    "command_codes = get_command_codes(ddi)"
   ]
  }
 ],
 "metadata": {
  "kernelspec": {
   "display_name": "Julia 1.3.1",
   "language": "julia",
   "name": "julia-1.3"
  },
  "language_info": {
   "file_extension": ".jl",
   "mimetype": "application/julia",
   "name": "julia",
   "version": "1.3.1"
  }
 },
 "nbformat": 4,
 "nbformat_minor": 4
}
