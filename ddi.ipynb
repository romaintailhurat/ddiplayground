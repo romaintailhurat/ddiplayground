{
 "cells": [
  {
   "cell_type": "code",
   "execution_count": null,
   "metadata": {},
   "outputs": [],
   "source": [
    "import Pkg; Pkg.add(\"EzXML\")"
   ]
  },
  {
   "cell_type": "code",
   "execution_count": null,
   "metadata": {},
   "outputs": [],
   "source": [
    "using EzXML"
   ]
  },
  {
   "cell_type": "code",
   "execution_count": 4,
   "metadata": {},
   "outputs": [],
   "source": [
    "struct CommandCode\n",
    "    ProgramLanguage::String\n",
    "end"
   ]
  },
  {
   "cell_type": "code",
   "execution_count": 14,
   "metadata": {},
   "outputs": [
    {
     "data": {
      "text/plain": [
       "4-element Array{Any,1}:\n",
       " CommandCode(\"xpath\")\n",
       " CommandCode(\"xpath\")\n",
       " CommandCode(\"xpath\")\n",
       " CommandCode(\"xpath\")"
      ]
     },
     "execution_count": 14,
     "metadata": {},
     "output_type": "execute_result"
    }
   ],
   "source": [
    "ddi = readxml(\"form.xml\")\n",
    "\n",
    "ccs = []\n",
    "\n",
    "for cc in findall(\"//r:CommandCode\", ddi.root, [\"r\" => \"ddi:reusable:3_3\"])        \n",
    "    for element in elements(cc)        \n",
    "        pl = findfirst(\"//r:ProgramLanguage/text()\", element, [\"r\" => \"ddi:reusable:3_3\"])\n",
    "        cc = CommandCode(pl.content)\n",
    "        push!(ccs, cc)\n",
    "    end\n",
    "end\n",
    "\n",
    "ccs"
   ]
  }
 ],
 "metadata": {
  "kernelspec": {
   "display_name": "Julia 1.3.1",
   "language": "julia",
   "name": "julia-1.3"
  },
  "language_info": {
   "file_extension": ".jl",
   "mimetype": "application/julia",
   "name": "julia",
   "version": "1.3.1"
  }
 },
 "nbformat": 4,
 "nbformat_minor": 4
}
