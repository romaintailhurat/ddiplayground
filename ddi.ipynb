{
 "cells": [
  {
   "cell_type": "code",
   "execution_count": null,
   "metadata": {},
   "outputs": [],
   "source": [
    "import Pkg; Pkg.add(\"EzXML\")"
   ]
  },
  {
   "cell_type": "code",
   "execution_count": null,
   "metadata": {},
   "outputs": [],
   "source": [
    "using EzXML"
   ]
  },
  {
   "cell_type": "code",
   "execution_count": null,
   "metadata": {},
   "outputs": [],
   "source": [
    "mappings = Dict(\n",
    "    \"reusable\" => [\"r\" => \"ddi:reusable:3_3\"],\n",
    "    \"logicalproduct\" => [\"l\" => \"ddi:logicalproduct:3_3\"]\n",
    ")\n",
    "\n",
    "struct CommandCode\n",
    "    ProgramLanguage::String\n",
    "end\n",
    "\n",
    "struct Variable\n",
    "    ID::String\n",
    "    Name::String\n",
    "end"
   ]
  },
  {
   "cell_type": "code",
   "execution_count": 55,
   "metadata": {},
   "outputs": [
    {
     "data": {
      "text/plain": [
       "get_variables (generic function with 1 method)"
      ]
     },
     "execution_count": 55,
     "metadata": {},
     "output_type": "execute_result"
    }
   ],
   "source": [
    "function get_command_codes(ddi_doc)\n",
    "    ccs = []\n",
    "\n",
    "    for cc in findall(\"//r:CommandCode\", ddi_doc.root, mappings[\"reusable\"])        \n",
    "        for element in elements(cc)        \n",
    "            pl = findfirst(\"//r:ProgramLanguage/text()\", element, mappings[\"reusable\"])\n",
    "            cc = CommandCode(pl.content)\n",
    "            push!(ccs, cc)\n",
    "        end\n",
    "    end\n",
    "\n",
    "    ccs\n",
    "end\n",
    "\n",
    "function get_variables(ddi_doc)\n",
    "    variables = []\n",
    "    \n",
    "    for variable in findall(\"//l:Variable\", ddi_doc.root, mappings[\"logicalproduct\"])          \n",
    "        id = findfirst(\"r:ID/text()\", variable, mappings[\"reusable\"])        \n",
    "        name = findfirst(\"l:VariableName/r:String/text()\", variable, [mappings[\"logicalproduct\"]; mappings[\"reusable\"]])\n",
    "        push!(variables, Variable(id.content, name.content))               \n",
    "    end\n",
    "    \n",
    "    variables\n",
    "end"
   ]
  },
  {
   "cell_type": "code",
   "execution_count": 56,
   "metadata": {},
   "outputs": [
    {
     "data": {
      "text/plain": [
       "23-element Array{Any,1}:\n",
       " Variable(\"kp41qb6e\", \"SOMME\")                    \n",
       " Variable(\"kp41tdse\", \"PERSOLIB\")                 \n",
       " Variable(\"kp4059v4\", \"OKREP\")                    \n",
       " Variable(\"kp4085k8\", \"PRENOM\")                   \n",
       " Variable(\"kp407adh\", \"NOMBUR\")                   \n",
       " Variable(\"kp4018wd\", \"PRENOMBUR\")                \n",
       " Variable(\"kp40jows\", \"SEXEBUR\")                  \n",
       " Variable(\"kp40arm4\", \"AGEBUR\")                   \n",
       " Variable(\"kp41yvji\", \"POURCENTAGETEMPSTRAVAIL11\")\n",
       " Variable(\"kp41u1kg\", \"POURCENTAGETEMPSTRAVAIL21\")\n",
       " Variable(\"kp41wxt8\", \"POURCENTAGETEMPSTRAVAIL31\")\n",
       " Variable(\"kp41ibhw\", \"POURCENTAGETEMPSTRAVAIL41\")\n",
       " Variable(\"kp40lq8e\", \"ACTIVITES_EXERCEES1\")      \n",
       " Variable(\"kp40hh12\", \"ACTIVITES_EXERCEES2\")      \n",
       " Variable(\"kp40x6y5\", \"ACTIVITES_EXERCEES3\")      \n",
       " Variable(\"kp40jejc\", \"ACTIVITES_EXERCEES4\")      \n",
       " Variable(\"kp40ixxn\", \"ACTIVITES_EXERCEES5\")      \n",
       " Variable(\"kp40rya0\", \"QUESTIONS_A_SPECIFIER\")    \n",
       " Variable(\"kp413hvb\", \"COLLEGUE_TEMPS_PARTIEL\")   \n",
       " Variable(\"kp40yvah\", \"COLLEGUE_REGULIER\")        \n",
       " Variable(\"kp40ti0o\", \"DATE_DEBUT_TRAVAIL\")       \n",
       " Variable(\"kp415qkv\", \"APPRECIE\")                 \n",
       " Variable(\"kp41f3ps\", \"DUREE\")                    "
      ]
     },
     "execution_count": 56,
     "metadata": {},
     "output_type": "execute_result"
    }
   ],
   "source": [
    "ddi = readxml(\"form.xml\")\n",
    "\n",
    "command_codes = get_command_codes(ddi)\n",
    "\n",
    "variables = get_variables(ddi)"
   ]
  }
 ],
 "metadata": {
  "kernelspec": {
   "display_name": "Julia 1.3.1",
   "language": "julia",
   "name": "julia-1.3"
  },
  "language_info": {
   "file_extension": ".jl",
   "mimetype": "application/julia",
   "name": "julia",
   "version": "1.3.1"
  }
 },
 "nbformat": 4,
 "nbformat_minor": 4
}
